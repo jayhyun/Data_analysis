{
  "nbformat": 4,
  "nbformat_minor": 0,
  "metadata": {
    "colab": {
      "provenance": [],
      "authorship_tag": "ABX9TyPxTiY0OJEvwfNNQMhF9OdG",
      "include_colab_link": true
    },
    "kernelspec": {
      "name": "python3",
      "display_name": "Python 3"
    },
    "language_info": {
      "name": "python"
    }
  },
  "cells": [
    {
      "cell_type": "markdown",
      "metadata": {
        "id": "view-in-github",
        "colab_type": "text"
      },
      "source": [
        "<a href=\"https://colab.research.google.com/github/jayhyun/Data_analysis/blob/main/google_colab_python_library_management.ipynb\" target=\"_parent\"><img src=\"https://colab.research.google.com/assets/colab-badge.svg\" alt=\"Open In Colab\"/></a>"
      ]
    },
    {
      "cell_type": "markdown",
      "source": [
        "# Management of Python libraries in google colab"
      ],
      "metadata": {
        "id": "6wNZn3pnTWZA"
      }
    },
    {
      "cell_type": "markdown",
      "source": [
        "### First-time environment set up."
      ],
      "metadata": {
        "id": "-_rm6h8uTMN8"
      }
    },
    {
      "cell_type": "markdown",
      "source": [
        "1. Mount the drive"
      ],
      "metadata": {
        "id": "qDrEnapSUg07"
      }
    },
    {
      "cell_type": "code",
      "source": [
        "from google.colab import drive\n",
        "drive.mount(\"/content/drive\")"
      ],
      "metadata": {
        "colab": {
          "base_uri": "https://localhost:8080/"
        },
        "id": "fNhKk2LITU-A",
        "outputId": "12eeb723-00c9-485b-a9d0-6dea4a10b3bb"
      },
      "execution_count": 8,
      "outputs": [
        {
          "output_type": "stream",
          "name": "stdout",
          "text": [
            "Drive already mounted at /content/drive; to attempt to forcibly remount, call drive.mount(\"/content/drive\", force_remount=True).\n"
          ]
        }
      ]
    },
    {
      "cell_type": "markdown",
      "source": [
        "2. Install virtualenv"
      ],
      "metadata": {
        "id": "Pmxidnq0Ve5d"
      }
    },
    {
      "cell_type": "code",
      "source": [
        "!pip install virtualenv"
      ],
      "metadata": {
        "colab": {
          "base_uri": "https://localhost:8080/"
        },
        "id": "Mueq_yS0ViZO",
        "outputId": "4491d51b-ce4e-4b20-d60f-a55427ac21b4"
      },
      "execution_count": 3,
      "outputs": [
        {
          "output_type": "stream",
          "name": "stdout",
          "text": [
            "Collecting virtualenv\n",
            "  Downloading virtualenv-20.25.1-py3-none-any.whl (3.8 MB)\n",
            "\u001b[2K     \u001b[90m━━━━━━━━━━━━━━━━━━━━━━━━━━━━━━━━━━━━━━━━\u001b[0m \u001b[32m3.8/3.8 MB\u001b[0m \u001b[31m12.7 MB/s\u001b[0m eta \u001b[36m0:00:00\u001b[0m\n",
            "\u001b[?25hCollecting distlib<1,>=0.3.7 (from virtualenv)\n",
            "  Downloading distlib-0.3.8-py2.py3-none-any.whl (468 kB)\n",
            "\u001b[2K     \u001b[90m━━━━━━━━━━━━━━━━━━━━━━━━━━━━━━━━━━━━━━━━\u001b[0m \u001b[32m468.9/468.9 kB\u001b[0m \u001b[31m17.0 MB/s\u001b[0m eta \u001b[36m0:00:00\u001b[0m\n",
            "\u001b[?25hRequirement already satisfied: filelock<4,>=3.12.2 in /usr/local/lib/python3.10/dist-packages (from virtualenv) (3.13.3)\n",
            "Requirement already satisfied: platformdirs<5,>=3.9.1 in /usr/local/lib/python3.10/dist-packages (from virtualenv) (4.2.0)\n",
            "Installing collected packages: distlib, virtualenv\n",
            "Successfully installed distlib-0.3.8 virtualenv-20.25.1\n"
          ]
        }
      ]
    },
    {
      "cell_type": "markdown",
      "source": [
        "3. Setup a virtual environment"
      ],
      "metadata": {
        "id": "d27H8nBcUmJL"
      }
    },
    {
      "cell_type": "code",
      "source": [
        "!virtualenv /content/drive/MyDrive/colab_env"
      ],
      "metadata": {
        "colab": {
          "base_uri": "https://localhost:8080/"
        },
        "id": "TYUphgF9UlKL",
        "outputId": "40214e3d-95f9-49ac-e1c6-532a8d8ab716"
      },
      "execution_count": 10,
      "outputs": [
        {
          "output_type": "stream",
          "name": "stdout",
          "text": [
            "created virtual environment CPython3.10.12.final.0-64 in 13536ms\n",
            "  creator CPython3Posix(dest=/content/drive/MyDrive/colab_env, clear=False, no_vcs_ignore=False, global=False)\n",
            "  seeder FromAppData(download=False, pip=bundle, setuptools=bundle, wheel=bundle, via=copy, app_data_dir=/root/.local/share/virtualenv)\n",
            "    added seed packages: annotated_types==0.6.0, anyio==4.3.0, certifi==2024.2.2, distro==1.9.0, exceptiongroup==1.2.0, h11==0.14.0, httpcore==1.0.5, httpx==0.27.0, idna==3.6, numpy==1.26.4, openai==1.14.3, pip==24.0, pydantic==2.6.4, pydantic_core==2.16.3, setuptools==69.1.0, sniffio==1.3.1, tqdm==4.66.2, typing_extensions==4.10.0, wheel==0.42.0\n",
            "  activators BashActivator,CShellActivator,FishActivator,NushellActivator,PowerShellActivator,PythonActivator\n"
          ]
        }
      ]
    },
    {
      "cell_type": "markdown",
      "source": [
        "### Installing libraries to the virtual environment"
      ],
      "metadata": {
        "id": "Cg9XUNDEUvPF"
      }
    },
    {
      "cell_type": "code",
      "source": [
        "#!source /content/drive/MyDrive/colab_env/bin/activate; pip install {packagename}\n",
        "!source /content/drive/MyDrive/colab_env/bin/activate; pip install openai"
      ],
      "metadata": {
        "colab": {
          "base_uri": "https://localhost:8080/"
        },
        "id": "h6xsVOeiVNS1",
        "outputId": "0e283357-46c1-48e3-ff0c-e92b07786332"
      },
      "execution_count": 14,
      "outputs": [
        {
          "output_type": "stream",
          "name": "stdout",
          "text": [
            "Requirement already satisfied: openai in ./drive/MyDrive/colab_env/lib/python3.10/site-packages (1.14.3)\n",
            "Requirement already satisfied: anyio<5,>=3.5.0 in ./drive/MyDrive/colab_env/lib/python3.10/site-packages (from openai) (4.3.0)\n",
            "Requirement already satisfied: distro<2,>=1.7.0 in ./drive/MyDrive/colab_env/lib/python3.10/site-packages (from openai) (1.9.0)\n",
            "Requirement already satisfied: httpx<1,>=0.23.0 in ./drive/MyDrive/colab_env/lib/python3.10/site-packages (from openai) (0.27.0)\n",
            "Requirement already satisfied: pydantic<3,>=1.9.0 in ./drive/MyDrive/colab_env/lib/python3.10/site-packages (from openai) (2.6.4)\n",
            "Requirement already satisfied: sniffio in ./drive/MyDrive/colab_env/lib/python3.10/site-packages (from openai) (1.3.1)\n",
            "Requirement already satisfied: tqdm>4 in ./drive/MyDrive/colab_env/lib/python3.10/site-packages (from openai) (4.66.2)\n",
            "Requirement already satisfied: typing-extensions<5,>=4.7 in ./drive/MyDrive/colab_env/lib/python3.10/site-packages (from openai) (4.10.0)\n",
            "Requirement already satisfied: idna>=2.8 in ./drive/MyDrive/colab_env/lib/python3.10/site-packages (from anyio<5,>=3.5.0->openai) (3.6)\n",
            "Requirement already satisfied: exceptiongroup>=1.0.2 in ./drive/MyDrive/colab_env/lib/python3.10/site-packages (from anyio<5,>=3.5.0->openai) (1.2.0)\n",
            "Requirement already satisfied: certifi in ./drive/MyDrive/colab_env/lib/python3.10/site-packages (from httpx<1,>=0.23.0->openai) (2024.2.2)\n",
            "Requirement already satisfied: httpcore==1.* in ./drive/MyDrive/colab_env/lib/python3.10/site-packages (from httpx<1,>=0.23.0->openai) (1.0.5)\n",
            "Requirement already satisfied: h11<0.15,>=0.13 in ./drive/MyDrive/colab_env/lib/python3.10/site-packages (from httpcore==1.*->httpx<1,>=0.23.0->openai) (0.14.0)\n",
            "Requirement already satisfied: annotated-types>=0.4.0 in ./drive/MyDrive/colab_env/lib/python3.10/site-packages (from pydantic<3,>=1.9.0->openai) (0.6.0)\n",
            "Requirement already satisfied: pydantic-core==2.16.3 in ./drive/MyDrive/colab_env/lib/python3.10/site-packages (from pydantic<3,>=1.9.0->openai) (2.16.3)\n"
          ]
        }
      ]
    },
    {
      "cell_type": "markdown",
      "source": [
        "If the desired library is successfully installed, now, the installed library can be called by adding the following, in the new code."
      ],
      "metadata": {
        "id": "8nnpFEHLYgai"
      }
    },
    {
      "cell_type": "code",
      "source": [
        "from google.colab import drive\n",
        "import sys\n",
        "\n",
        "drive.mount(\"/content/drive\")\n",
        "sys.path.append(\"/content/drive/MyDrive/colab_env/lib/python3.10/site-packages\")"
      ],
      "metadata": {
        "id": "Sy2hIpGAY5Fx"
      },
      "execution_count": 15,
      "outputs": []
    },
    {
      "cell_type": "code",
      "source": [
        "import openai"
      ],
      "metadata": {
        "id": "O_bZTmsIZkek"
      },
      "execution_count": 16,
      "outputs": []
    }
  ]
}